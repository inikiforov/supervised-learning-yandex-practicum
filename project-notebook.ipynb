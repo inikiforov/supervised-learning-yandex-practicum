{
 "cells": [
  {
   "cell_type": "markdown",
   "id": "70e00f3e",
   "metadata": {
    "toc": true
   },
   "source": [
    "<h1>Table of Contents<span class=\"tocSkip\"></span></h1>\n",
    "<div class=\"toc\"><ul class=\"toc-item\"><li><span><a href=\"#Постановка-задачи\" data-toc-modified-id=\"Постановка-задачи-1\"><span class=\"toc-item-num\">1&nbsp;&nbsp;</span>Постановка задачи</a></span><ul class=\"toc-item\"><li><span><a href=\"#Описание-задачи\" data-toc-modified-id=\"Описание-задачи-1.1\"><span class=\"toc-item-num\">1.1&nbsp;&nbsp;</span>Описание задачи</a></span></li><li><span><a href=\"#Критерии-оценки\" data-toc-modified-id=\"Критерии-оценки-1.2\"><span class=\"toc-item-num\">1.2&nbsp;&nbsp;</span>Критерии оценки</a></span></li><li><span><a href=\"#Описание-данных\" data-toc-modified-id=\"Описание-данных-1.3\"><span class=\"toc-item-num\">1.3&nbsp;&nbsp;</span>Описание данных</a></span></li></ul></li><li><span><a href=\"#Исследовательский-анализ-данных\" data-toc-modified-id=\"Исследовательский-анализ-данных-2\"><span class=\"toc-item-num\">2&nbsp;&nbsp;</span>Исследовательский анализ данных</a></span><ul class=\"toc-item\"><li><span><a href=\"#Общая-информация\" data-toc-modified-id=\"Общая-информация-2.1\"><span class=\"toc-item-num\">2.1&nbsp;&nbsp;</span>Общая информация</a></span></li><li><span><a href=\"#Как-связаны-Exited-и-другие-признаки\" data-toc-modified-id=\"Как-связаны-Exited-и-другие-признаки-2.2\"><span class=\"toc-item-num\">2.2&nbsp;&nbsp;</span>Как связаны Exited и другие признаки</a></span><ul class=\"toc-item\"><li><span><a href=\"#CreditScore\" data-toc-modified-id=\"CreditScore-2.2.1\"><span class=\"toc-item-num\">2.2.1&nbsp;&nbsp;</span>CreditScore</a></span></li><li><span><a href=\"#Geography\" data-toc-modified-id=\"Geography-2.2.2\"><span class=\"toc-item-num\">2.2.2&nbsp;&nbsp;</span>Geography</a></span></li><li><span><a href=\"#Age\" data-toc-modified-id=\"Age-2.2.3\"><span class=\"toc-item-num\">2.2.3&nbsp;&nbsp;</span>Age</a></span></li><li><span><a href=\"#Gender\" data-toc-modified-id=\"Gender-2.2.4\"><span class=\"toc-item-num\">2.2.4&nbsp;&nbsp;</span>Gender</a></span></li><li><span><a href=\"#Tenure\" data-toc-modified-id=\"Tenure-2.2.5\"><span class=\"toc-item-num\">2.2.5&nbsp;&nbsp;</span>Tenure</a></span></li><li><span><a href=\"#Balance\" data-toc-modified-id=\"Balance-2.2.6\"><span class=\"toc-item-num\">2.2.6&nbsp;&nbsp;</span>Balance</a></span></li><li><span><a href=\"#NumOfProducts\" data-toc-modified-id=\"NumOfProducts-2.2.7\"><span class=\"toc-item-num\">2.2.7&nbsp;&nbsp;</span>NumOfProducts</a></span></li><li><span><a href=\"#HasCrCard\" data-toc-modified-id=\"HasCrCard-2.2.8\"><span class=\"toc-item-num\">2.2.8&nbsp;&nbsp;</span>HasCrCard</a></span></li><li><span><a href=\"#IsActiveMember\" data-toc-modified-id=\"IsActiveMember-2.2.9\"><span class=\"toc-item-num\">2.2.9&nbsp;&nbsp;</span>IsActiveMember</a></span></li><li><span><a href=\"#EstimatedSalary\" data-toc-modified-id=\"EstimatedSalary-2.2.10\"><span class=\"toc-item-num\">2.2.10&nbsp;&nbsp;</span>EstimatedSalary</a></span></li><li><span><a href=\"#Разное\" data-toc-modified-id=\"Разное-2.2.11\"><span class=\"toc-item-num\">2.2.11&nbsp;&nbsp;</span>Разное</a></span></li></ul></li><li><span><a href=\"#Выводы-по-анализу-данных\" data-toc-modified-id=\"Выводы-по-анализу-данных-2.3\"><span class=\"toc-item-num\">2.3&nbsp;&nbsp;</span>Выводы по анализу данных</a></span></li></ul></li><li><span><a href=\"#Баланс-классов\" data-toc-modified-id=\"Баланс-классов-3\"><span class=\"toc-item-num\">3&nbsp;&nbsp;</span>Баланс классов</a></span></li><li><span><a href=\"#Подготовка-выборки\" data-toc-modified-id=\"Подготовка-выборки-4\"><span class=\"toc-item-num\">4&nbsp;&nbsp;</span>Подготовка выборки</a></span><ul class=\"toc-item\"><li><span><a href=\"#Подготовка-признаков,-кодирование\" data-toc-modified-id=\"Подготовка-признаков,-кодирование-4.1\"><span class=\"toc-item-num\">4.1&nbsp;&nbsp;</span>Подготовка признаков, кодирование</a></span></li><li><span><a href=\"#Обучающая-и-тестовая-выборка\" data-toc-modified-id=\"Обучающая-и-тестовая-выборка-4.2\"><span class=\"toc-item-num\">4.2&nbsp;&nbsp;</span>Обучающая и тестовая выборка</a></span></li><li><span><a href=\"#Обучающая-и-валидационная-выборка-без-upsampling\" data-toc-modified-id=\"Обучающая-и-валидационная-выборка-без-upsampling-4.3\"><span class=\"toc-item-num\">4.3&nbsp;&nbsp;</span>Обучающая и валидационная выборка без upsampling</a></span></li><li><span><a href=\"#Тренировочная-и-валидационная-выборка-с-upsampling\" data-toc-modified-id=\"Тренировочная-и-валидационная-выборка-с-upsampling-4.4\"><span class=\"toc-item-num\">4.4&nbsp;&nbsp;</span>Тренировочная и валидационная выборка с upsampling</a></span></li></ul></li><li><span><a href=\"#Выбор-модели\" data-toc-modified-id=\"Выбор-модели-5\"><span class=\"toc-item-num\">5&nbsp;&nbsp;</span>Выбор модели</a></span><ul class=\"toc-item\"><li><span><a href=\"#Decision-Tree\" data-toc-modified-id=\"Decision-Tree-5.1\"><span class=\"toc-item-num\">5.1&nbsp;&nbsp;</span>Decision Tree</a></span></li><li><span><a href=\"#Random-Forest\" data-toc-modified-id=\"Random-Forest-5.2\"><span class=\"toc-item-num\">5.2&nbsp;&nbsp;</span>Random Forest</a></span></li><li><span><a href=\"#Logistic-Regression\" data-toc-modified-id=\"Logistic-Regression-5.3\"><span class=\"toc-item-num\">5.3&nbsp;&nbsp;</span>Logistic Regression</a></span></li><li><span><a href=\"#Константная-модель\" data-toc-modified-id=\"Константная-модель-5.4\"><span class=\"toc-item-num\">5.4&nbsp;&nbsp;</span>Константная модель</a></span></li><li><span><a href=\"#Константная-модель-v2-(с-единицами)\" data-toc-modified-id=\"Константная-модель-v2-(с-единицами)-5.5\"><span class=\"toc-item-num\">5.5&nbsp;&nbsp;</span>Константная модель v2 (с единицами)</a></span></li><li><span><a href=\"#Decision-Tree-Balanced\" data-toc-modified-id=\"Decision-Tree-Balanced-5.6\"><span class=\"toc-item-num\">5.6&nbsp;&nbsp;</span>Decision Tree Balanced</a></span></li><li><span><a href=\"#Random-Forest-Balanced\" data-toc-modified-id=\"Random-Forest-Balanced-5.7\"><span class=\"toc-item-num\">5.7&nbsp;&nbsp;</span>Random Forest Balanced</a></span></li><li><span><a href=\"#Logistic-Regression-Balanced\" data-toc-modified-id=\"Logistic-Regression-Balanced-5.8\"><span class=\"toc-item-num\">5.8&nbsp;&nbsp;</span>Logistic Regression Balanced</a></span></li></ul></li><li><span><a href=\"#Random-Forest-подбор-гиперпараметров-через-AUC-ROC-и-F1-score\" data-toc-modified-id=\"Random-Forest-подбор-гиперпараметров-через-AUC-ROC-и-F1-score-6\"><span class=\"toc-item-num\">6&nbsp;&nbsp;</span>Random Forest подбор гиперпараметров через AUC-ROC и F1-score</a></span></li><li><span><a href=\"#Тестирование-получившейся-модели\" data-toc-modified-id=\"Тестирование-получившейся-модели-7\"><span class=\"toc-item-num\">7&nbsp;&nbsp;</span>Тестирование получившейся модели</a></span></li><li><span><a href=\"#Заключение\" data-toc-modified-id=\"Заключение-8\"><span class=\"toc-item-num\">8&nbsp;&nbsp;</span>Заключение</a></span><ul class=\"toc-item\"><li><ul class=\"toc-item\"><li><ul class=\"toc-item\"><li><span><a href=\"#В-рамках-данного-задания-был-проведен-анализ-данных-банка,-который-заметил-отток-клиентов.\" data-toc-modified-id=\"В-рамках-данного-задания-был-проведен-анализ-данных-банка,-который-заметил-отток-клиентов.-8.0.0.1\"><span class=\"toc-item-num\">8.0.0.1&nbsp;&nbsp;</span>В рамках данного задания был проведен анализ данных банка, который заметил отток клиентов.</a></span></li></ul></li></ul></li></ul></li><li><span><a href=\"#Доработка-модели-для-Спринта-13\" data-toc-modified-id=\"Доработка-модели-для-Спринта-13-9\"><span class=\"toc-item-num\">9&nbsp;&nbsp;</span>Доработка модели для Спринта 13</a></span></li></ul></div>"
   ]
  },
  {
   "cell_type": "markdown",
   "id": "1d1e831e",
   "metadata": {},
   "source": [
    "Ссылка на проект на github: https://github.com/inikiforov/supervised-learning-yandex-practicum"
   ]
  },
  {
   "cell_type": "markdown",
   "id": "7e1f69f4",
   "metadata": {},
   "source": [
    "# Постановка задачи и описание данных"
   ]
  },
  {
   "cell_type": "markdown",
   "id": "5b6ae2b4",
   "metadata": {},
   "source": [
    "## Постановка задачи"
   ]
  },
  {
   "cell_type": "markdown",
   "id": "38ec26f4",
   "metadata": {},
   "source": [
    "### Описание задачи"
   ]
  },
  {
   "cell_type": "markdown",
   "id": "e97b1b35",
   "metadata": {},
   "source": [
    "Из «Бета-Банка» стали уходить клиенты. Каждый месяц. Немного, но заметно. Банковские маркетологи посчитали: сохранять текущих клиентов дешевле, чем привлекать новых.\n",
    "\n",
    "Нужно спрогнозировать, уйдёт клиент из банка в ближайшее время или нет. Вам предоставлены исторические данные о поведении клиентов и расторжении договоров с банком."
   ]
  },
  {
   "cell_type": "markdown",
   "id": "a66c151c",
   "metadata": {},
   "source": [
    "### Критерии оценки"
   ]
  },
  {
   "cell_type": "markdown",
   "id": "f84fbcdf",
   "metadata": {},
   "source": [
    "Постройте модель с предельно большим значением *F1*-меры. Чтобы сдать проект успешно, нужно довести метрику до 0.59. Проверьте *F1*-меру на тестовой выборке самостоятельно.\n",
    "\n",
    "Дополнительно измеряйте *AUC-ROC*, сравнивайте её значение с *F1*-мерой."
   ]
  },
  {
   "cell_type": "markdown",
   "id": "01ae83ca",
   "metadata": {},
   "source": [
    "### Описание данных"
   ]
  },
  {
   "cell_type": "markdown",
   "id": "2518bcde",
   "metadata": {},
   "source": [
    "**Признаки**\n",
    "\n",
    "- *RowNumber —* индекс строки в данных\n",
    "- *CustomerId* — уникальный идентификатор клиента\n",
    "- *Surname —* фамилия\n",
    "- *CreditScore —* кредитный рейтинг\n",
    "- *Geography —* страна проживания\n",
    "- *Gender —* пол\n",
    "- *Age —* возраст\n",
    "- *Tenure —* сколько лет человек является клиентом банка\n",
    "- *Balance —* баланс на счёте\n",
    "- *NumOfProducts —* количество продуктов банка, используемых клиентом\n",
    "- *HasCrCard —* наличие кредитной карты\n",
    "- *IsActiveMember —* активность клиента\n",
    "- *EstimatedSalary —* предполагаемая зарплата\n",
    "\n",
    "**Целевой признак**\n",
    "\n",
    "- *Exited* — факт ухода клиента"
   ]
  },
  {
   "cell_type": "code",
   "execution_count": 1,
   "id": "2cfb4ffa",
   "metadata": {},
   "outputs": [],
   "source": [
    "# импортируем необходимые бибилиотеки\n",
    "\n",
    "import pandas as pd\n",
    "import seaborn as sns\n",
    "import matplotlib.pyplot as plt\n",
    "\n",
    "\n",
    "from sklearn.preprocessing import StandardScaler\n",
    "from sklearn.model_selection import train_test_split\n",
    "from sklearn.utils import shuffle\n",
    "from sklearn.preprocessing import LabelEncoder\n",
    "from sklearn.tree import DecisionTreeClassifier\n",
    "from sklearn.ensemble import RandomForestClassifier\n",
    "from sklearn.linear_model import LogisticRegression\n",
    "from sklearn.metrics import accuracy_score, f1_score, roc_auc_score, recall_score\n",
    "\n",
    "\n",
    "\n",
    "\n"
   ]
  },
  {
   "cell_type": "code",
   "execution_count": 2,
   "id": "14686ff6",
   "metadata": {},
   "outputs": [],
   "source": [
    "# открываем датасет\n",
    "\n",
    "try:\n",
    "    data = pd.read_csv('/datasets/churn.csv')\n",
    "except:\n",
    "    data = pd.read_csv('/Users/inikiforov/Python/practicum/sprint9/churn.csv')"
   ]
  },
  {
   "cell_type": "markdown",
   "id": "7de79854",
   "metadata": {},
   "source": [
    "## Исследовательский анализ данных"
   ]
  },
  {
   "cell_type": "markdown",
   "id": "68bbd6c0",
   "metadata": {},
   "source": [
    "### Общая информация"
   ]
  },
  {
   "cell_type": "markdown",
   "id": "c3eb44b7",
   "metadata": {},
   "source": [
    "Посмотрим на данные, определим необходимо ли делать какую-то предварительную подготовку перед их анализом. "
   ]
  },
  {
   "cell_type": "code",
   "execution_count": 3,
   "id": "678573c1",
   "metadata": {},
   "outputs": [
    {
     "data": {
      "text/html": [
       "<div>\n",
       "<style scoped>\n",
       "    .dataframe tbody tr th:only-of-type {\n",
       "        vertical-align: middle;\n",
       "    }\n",
       "\n",
       "    .dataframe tbody tr th {\n",
       "        vertical-align: top;\n",
       "    }\n",
       "\n",
       "    .dataframe thead th {\n",
       "        text-align: right;\n",
       "    }\n",
       "</style>\n",
       "<table border=\"1\" class=\"dataframe\">\n",
       "  <thead>\n",
       "    <tr style=\"text-align: right;\">\n",
       "      <th></th>\n",
       "      <th>RowNumber</th>\n",
       "      <th>CustomerId</th>\n",
       "      <th>Surname</th>\n",
       "      <th>CreditScore</th>\n",
       "      <th>Geography</th>\n",
       "      <th>Gender</th>\n",
       "      <th>Age</th>\n",
       "      <th>Tenure</th>\n",
       "      <th>Balance</th>\n",
       "      <th>NumOfProducts</th>\n",
       "      <th>HasCrCard</th>\n",
       "      <th>IsActiveMember</th>\n",
       "      <th>EstimatedSalary</th>\n",
       "      <th>Exited</th>\n",
       "    </tr>\n",
       "  </thead>\n",
       "  <tbody>\n",
       "    <tr>\n",
       "      <th>0</th>\n",
       "      <td>1</td>\n",
       "      <td>15634602</td>\n",
       "      <td>Hargrave</td>\n",
       "      <td>619</td>\n",
       "      <td>France</td>\n",
       "      <td>Female</td>\n",
       "      <td>42</td>\n",
       "      <td>2.0</td>\n",
       "      <td>0.00</td>\n",
       "      <td>1</td>\n",
       "      <td>1</td>\n",
       "      <td>1</td>\n",
       "      <td>101348.88</td>\n",
       "      <td>1</td>\n",
       "    </tr>\n",
       "    <tr>\n",
       "      <th>1</th>\n",
       "      <td>2</td>\n",
       "      <td>15647311</td>\n",
       "      <td>Hill</td>\n",
       "      <td>608</td>\n",
       "      <td>Spain</td>\n",
       "      <td>Female</td>\n",
       "      <td>41</td>\n",
       "      <td>1.0</td>\n",
       "      <td>83807.86</td>\n",
       "      <td>1</td>\n",
       "      <td>0</td>\n",
       "      <td>1</td>\n",
       "      <td>112542.58</td>\n",
       "      <td>0</td>\n",
       "    </tr>\n",
       "    <tr>\n",
       "      <th>2</th>\n",
       "      <td>3</td>\n",
       "      <td>15619304</td>\n",
       "      <td>Onio</td>\n",
       "      <td>502</td>\n",
       "      <td>France</td>\n",
       "      <td>Female</td>\n",
       "      <td>42</td>\n",
       "      <td>8.0</td>\n",
       "      <td>159660.80</td>\n",
       "      <td>3</td>\n",
       "      <td>1</td>\n",
       "      <td>0</td>\n",
       "      <td>113931.57</td>\n",
       "      <td>1</td>\n",
       "    </tr>\n",
       "    <tr>\n",
       "      <th>3</th>\n",
       "      <td>4</td>\n",
       "      <td>15701354</td>\n",
       "      <td>Boni</td>\n",
       "      <td>699</td>\n",
       "      <td>France</td>\n",
       "      <td>Female</td>\n",
       "      <td>39</td>\n",
       "      <td>1.0</td>\n",
       "      <td>0.00</td>\n",
       "      <td>2</td>\n",
       "      <td>0</td>\n",
       "      <td>0</td>\n",
       "      <td>93826.63</td>\n",
       "      <td>0</td>\n",
       "    </tr>\n",
       "    <tr>\n",
       "      <th>4</th>\n",
       "      <td>5</td>\n",
       "      <td>15737888</td>\n",
       "      <td>Mitchell</td>\n",
       "      <td>850</td>\n",
       "      <td>Spain</td>\n",
       "      <td>Female</td>\n",
       "      <td>43</td>\n",
       "      <td>2.0</td>\n",
       "      <td>125510.82</td>\n",
       "      <td>1</td>\n",
       "      <td>1</td>\n",
       "      <td>1</td>\n",
       "      <td>79084.10</td>\n",
       "      <td>0</td>\n",
       "    </tr>\n",
       "  </tbody>\n",
       "</table>\n",
       "</div>"
      ],
      "text/plain": [
       "   RowNumber  CustomerId   Surname  CreditScore Geography  Gender  Age  \\\n",
       "0          1    15634602  Hargrave          619    France  Female   42   \n",
       "1          2    15647311      Hill          608     Spain  Female   41   \n",
       "2          3    15619304      Onio          502    France  Female   42   \n",
       "3          4    15701354      Boni          699    France  Female   39   \n",
       "4          5    15737888  Mitchell          850     Spain  Female   43   \n",
       "\n",
       "   Tenure    Balance  NumOfProducts  HasCrCard  IsActiveMember  \\\n",
       "0     2.0       0.00              1          1               1   \n",
       "1     1.0   83807.86              1          0               1   \n",
       "2     8.0  159660.80              3          1               0   \n",
       "3     1.0       0.00              2          0               0   \n",
       "4     2.0  125510.82              1          1               1   \n",
       "\n",
       "   EstimatedSalary  Exited  \n",
       "0        101348.88       1  \n",
       "1        112542.58       0  \n",
       "2        113931.57       1  \n",
       "3         93826.63       0  \n",
       "4         79084.10       0  "
      ]
     },
     "execution_count": 3,
     "metadata": {},
     "output_type": "execute_result"
    }
   ],
   "source": [
    "data.head()"
   ]
  },
  {
   "cell_type": "code",
   "execution_count": 4,
   "id": "0a575359",
   "metadata": {},
   "outputs": [
    {
     "name": "stdout",
     "output_type": "stream",
     "text": [
      "<class 'pandas.core.frame.DataFrame'>\n",
      "RangeIndex: 10000 entries, 0 to 9999\n",
      "Data columns (total 14 columns):\n",
      " #   Column           Non-Null Count  Dtype  \n",
      "---  ------           --------------  -----  \n",
      " 0   RowNumber        10000 non-null  int64  \n",
      " 1   CustomerId       10000 non-null  int64  \n",
      " 2   Surname          10000 non-null  object \n",
      " 3   CreditScore      10000 non-null  int64  \n",
      " 4   Geography        10000 non-null  object \n",
      " 5   Gender           10000 non-null  object \n",
      " 6   Age              10000 non-null  int64  \n",
      " 7   Tenure           9091 non-null   float64\n",
      " 8   Balance          10000 non-null  float64\n",
      " 9   NumOfProducts    10000 non-null  int64  \n",
      " 10  HasCrCard        10000 non-null  int64  \n",
      " 11  IsActiveMember   10000 non-null  int64  \n",
      " 12  EstimatedSalary  10000 non-null  float64\n",
      " 13  Exited           10000 non-null  int64  \n",
      "dtypes: float64(3), int64(8), object(3)\n",
      "memory usage: 1.1+ MB\n"
     ]
    }
   ],
   "source": [
    "data.info()"
   ]
  },
  {
   "cell_type": "code",
   "execution_count": 5,
   "id": "c0991a88",
   "metadata": {},
   "outputs": [
    {
     "data": {
      "text/plain": [
       "0"
      ]
     },
     "execution_count": 5,
     "metadata": {},
     "output_type": "execute_result"
    }
   ],
   "source": [
    "data.duplicated().sum()"
   ]
  },
  {
   "cell_type": "markdown",
   "id": "2228bf21",
   "metadata": {},
   "source": [
    "Массив данных в целом хорошо заполенен. Нет явных дубликатов. Есть 909 пропусков в колонке tenure, этот факт мы изучим подробно позднее.\n",
    "\n",
    "RowNumber по сути является дублем индекса, только начинается с 1."
   ]
  },
  {
   "cell_type": "markdown",
   "id": "b89eb9c0",
   "metadata": {},
   "source": [
    "### Как связаны Exited и другие признаки"
   ]
  },
  {
   "cell_type": "markdown",
   "id": "f3480412",
   "metadata": {},
   "source": [
    "Нам поставлена задача построить модель, которая будет предсказывать уйдет тот или иной клиент или нет. Данный исход отмечен признаке Exited. На первом этапе посмотрим связь каждого признака и некоторых комбинаций с Exited."
   ]
  },
  {
   "cell_type": "markdown",
   "id": "180d852e",
   "metadata": {},
   "source": [
    "#### CreditScore"
   ]
  },
  {
   "cell_type": "code",
   "execution_count": 6,
   "id": "e310f6e1",
   "metadata": {
    "scrolled": false
   },
   "outputs": [
    {
     "data": {
      "image/png": "[encoded data removed]",
      "text/plain": [
       "<Figure size 640x480 with 1 Axes>"
      ]
     },
     "metadata": {},
     "output_type": "display_data"
    }
   ],
   "source": [
    "data['Credit Groups'] = pd.qcut(data['CreditScore'], 10, duplicates = 'drop', labels = False)\n",
    "sns.countplot(data = data, x = 'Credit Groups', hue = 'Exited')\n",
    "\n",
    "plt.show()"
   ]
  },
  {
   "cell_type": "code",
   "execution_count": 7,
   "id": "5f783b9d",
   "metadata": {},
   "outputs": [
    {
     "data": {
      "text/plain": [
       "Credit Groups\n",
       "0    0.223553\n",
       "1    0.226190\n",
       "2    0.200000\n",
       "3    0.216505\n",
       "4    0.207960\n",
       "5    0.185075\n",
       "6    0.174847\n",
       "7    0.191426\n",
       "8    0.210421\n",
       "9    0.199796\n",
       "Name: Exited, dtype: float64"
      ]
     },
     "execution_count": 7,
     "metadata": {},
     "output_type": "execute_result"
    }
   ],
   "source": [
    "data.groupby('Credit Groups')['Exited'].mean()"
   ]
  },
  {
   "cell_type": "markdown",
   "id": "b4e59c3a",
   "metadata": {},
   "source": [
    "Прослеживается небольшая связь между кредитным рейтингом клиента и шансом его ухода из банка. "
   ]
  },
  {
   "cell_type": "markdown",
   "id": "28f4be4a",
   "metadata": {},
   "source": [
    "#### Geography"
   ]
  },
  {
   "cell_type": "code",
   "execution_count": 8,
   "id": "7f738881",
   "metadata": {},
   "outputs": [
    {
     "data": {
      "image/png": "[encoded data removed]",
      "text/plain": [
       "<Figure size 640x480 with 1 Axes>"
      ]
     },
     "metadata": {},
     "output_type": "display_data"
    }
   ],
   "source": [
    "sns.countplot(data = data, x = 'Geography', hue = 'Exited')\n",
    "\n",
    "plt.show()"
   ]
  },
  {
   "cell_type": "code",
   "execution_count": 9,
   "id": "a9a8d50b",
   "metadata": {},
   "outputs": [
    {
     "data": {
      "text/plain": [
       "Geography\n",
       "France     0.161548\n",
       "Germany    0.324432\n",
       "Spain      0.166734\n",
       "Name: Exited, dtype: float64"
      ]
     },
     "execution_count": 9,
     "metadata": {},
     "output_type": "execute_result"
    }
   ],
   "source": [
    "data.groupby(['Geography'])['Exited'].mean()\n",
    "\n"
   ]
  },
  {
   "cell_type": "markdown",
   "id": "c8fb9885",
   "metadata": {},
   "source": [
    "В Германии наибольшая доля тех, кто решил покинуть банк. Во Франции и Испании доля примерно одинаковая. Обратим внимание на Германию."
   ]
  },
  {
   "cell_type": "markdown",
   "id": "1f2da63e",
   "metadata": {},
   "source": [
    "#### Age"
   ]
  },
  {
   "cell_type": "code",
   "execution_count": 10,
   "id": "f87d9951",
   "metadata": {
    "scrolled": false
   },
   "outputs": [
    {
     "data": {
      "image/png": "[encoded data removed]",
      "text/plain": [
       "<Figure size 640x480 with 1 Axes>"
      ]
     },
     "metadata": {},
     "output_type": "display_data"
    }
   ],
   "source": [
    "data['Age Groups'] = pd.qcut(data['Age'], 10, labels = False)\n",
    "sns.countplot(data = data, x = 'Age Groups', hue = 'Exited')\n",
    "\n",
    "plt.show()"
   ]
  },
  {
   "cell_type": "markdown",
   "id": "c4843065",
   "metadata": {},
   "source": [
    "Видно, что доля покидающих банк людей выше с возрастом. Но поскольку размер групп разный, было бы неплохо его нормализовать. "
   ]
  },
  {
   "cell_type": "code",
   "execution_count": 11,
   "id": "ef330474",
   "metadata": {},
   "outputs": [
    {
     "data": {
      "text/plain": [
       "Age Groups\n",
       "0    0.071569\n",
       "1    0.079882\n",
       "2    0.088372\n",
       "3    0.097720\n",
       "4    0.123126\n",
       "5    0.168168\n",
       "6    0.212518\n",
       "7    0.335976\n",
       "8    0.514690\n",
       "9    0.406832\n",
       "Name: Exited, dtype: float64"
      ]
     },
     "execution_count": 11,
     "metadata": {},
     "output_type": "execute_result"
    }
   ],
   "source": [
    "data.groupby('Age Groups')['Exited'].mean()"
   ]
  },
  {
   "cell_type": "markdown",
   "id": "2bc5fed6",
   "metadata": {},
   "source": [
    "Подтверждаем наши выводы и видим, что доля покинувших банк клиентов увеличивается с возрастом клиентов"
   ]
  },
  {
   "cell_type": "markdown",
   "id": "cf3291e3",
   "metadata": {},
   "source": [
    "#### Gender"
   ]
  },
  {
   "cell_type": "code",
   "execution_count": 12,
   "id": "e8e6e0e5",
   "metadata": {},
   "outputs": [
    {
     "data": {
      "image/png": "[encoded data removed]",
      "text/plain": [
       "<Figure size 640x480 with 1 Axes>"
      ]
     },
     "metadata": {},
     "output_type": "display_data"
    }
   ],
   "source": [
    "sns.countplot(data = data, x = 'Gender', hue = 'Exited')\n",
    "\n",
    "plt.show()"
   ]
  },
  {
   "cell_type": "markdown",
   "id": "2f847f1d",
   "metadata": {},
   "source": [
    "Доля покинувших банк женщин выше, чем доля мужчин"
   ]
  },
  {
   "cell_type": "code",
   "execution_count": 13,
   "id": "9791ee80",
   "metadata": {},
   "outputs": [
    {
     "data": {
      "text/plain": [
       "Gender  Age Groups\n",
       "Female  0             0.091489\n",
       "        1             0.107383\n",
       "        2             0.112601\n",
       "        3             0.137405\n",
       "        4             0.154822\n",
       "        5             0.208809\n",
       "        6             0.254019\n",
       "        7             0.385744\n",
       "        8             0.581858\n",
       "        9             0.476293\n",
       "Male    0             0.054545\n",
       "        1             0.058201\n",
       "        2             0.069815\n",
       "        3             0.068182\n",
       "        4             0.100000\n",
       "        5             0.133519\n",
       "        6             0.178191\n",
       "        7             0.291353\n",
       "        8             0.449679\n",
       "        9             0.342629\n",
       "dtype: float64"
      ]
     },
     "execution_count": 13,
     "metadata": {},
     "output_type": "execute_result"
    }
   ],
   "source": [
    "gender_analysis = data.pivot_table(index=['Gender', 'Age Groups'], columns='Exited', aggfunc='count')['CustomerId']\n",
    "\n",
    "gender_analysis[1]/(gender_analysis[0]+gender_analysis[1])"
   ]
  },
  {
   "cell_type": "markdown",
   "id": "8a1586fc",
   "metadata": {},
   "source": [
    "То, что женщины чаще покидают банк, чем мужчины не ограничивается какой-то одной возрастной категорией. Эффект виден по всем группам клиенток. \n",
    "\n",
    "Далее также будем присматриваться к женщинам. Проверим гендерную картину клиентов разных стран."
   ]
  },
  {
   "cell_type": "code",
   "execution_count": 14,
   "id": "77698813",
   "metadata": {},
   "outputs": [
    {
     "data": {
      "image/png": "[encoded data removed]",
      "text/plain": [
       "<Figure size 640x480 with 1 Axes>"
      ]
     },
     "metadata": {},
     "output_type": "display_data"
    }
   ],
   "source": [
    "sns.countplot(data = data, x = 'Geography', hue = 'Gender')\n",
    "\n",
    "plt.show()"
   ]
  },
  {
   "cell_type": "markdown",
   "id": "7c38dd90",
   "metadata": {},
   "source": [
    "В Германии действительно чуть большая доля женщин являются клинетами банка, чем в других странах. Достаточно ли этого, чтобы повлиять на отток клиентов в Германии?"
   ]
  },
  {
   "cell_type": "markdown",
   "id": "97380987",
   "metadata": {},
   "source": [
    "#### Tenure"
   ]
  },
  {
   "cell_type": "code",
   "execution_count": 15,
   "id": "a1478c82",
   "metadata": {},
   "outputs": [
    {
     "data": {
      "image/png": "[encoded data removed]",
      "text/plain": [
       "<Figure size 640x480 with 1 Axes>"
      ]
     },
     "metadata": {},
     "output_type": "display_data"
    }
   ],
   "source": [
    "sns.countplot(data = data, x = 'Tenure', hue = 'Exited')\n",
    "\n",
    "plt.show()"
   ]
  },
  {
   "cell_type": "code",
   "execution_count": 16,
   "id": "658dcaa3",
   "metadata": {},
   "outputs": [
    {
     "data": {
      "text/plain": [
       "Tenure\n",
       "0.0     0.235602\n",
       "1.0     0.223739\n",
       "2.0     0.194737\n",
       "3.0     0.213362\n",
       "4.0     0.207910\n",
       "5.0     0.201726\n",
       "6.0     0.200908\n",
       "7.0     0.172973\n",
       "8.0     0.186495\n",
       "9.0     0.219955\n",
       "10.0    0.206278\n",
       "Name: Exited, dtype: float64"
      ]
     },
     "execution_count": 16,
     "metadata": {},
     "output_type": "execute_result"
    }
   ],
   "source": [
    "data.groupby('Tenure')['Exited'].mean()"
   ]
  },
  {
   "cell_type": "markdown",
   "id": "606aaee1",
   "metadata": {},
   "source": [
    "Видим, что разные группы клиентов по длительности работы с банком имеют похожую вероятность отказаться от услуг банка с небольшими отклонениями по отдельным группам."
   ]
  },
  {
   "cell_type": "code",
   "execution_count": 17,
   "id": "0a56f286",
   "metadata": {},
   "outputs": [
    {
     "data": {
      "text/plain": [
       "Gender  Tenure\n",
       "Female  0.0       0.268817\n",
       "        1.0       0.272311\n",
       "        2.0       0.243619\n",
       "        3.0       0.264501\n",
       "        4.0       0.232323\n",
       "        5.0       0.272277\n",
       "        6.0       0.235714\n",
       "        7.0       0.216667\n",
       "        8.0       0.253807\n",
       "        9.0       0.269841\n",
       "        10.0      0.268182\n",
       "Male    0.0       0.204082\n",
       "        1.0       0.182524\n",
       "        2.0       0.154143\n",
       "        3.0       0.169014\n",
       "        4.0       0.188139\n",
       "        5.0       0.147228\n",
       "        6.0       0.169197\n",
       "        7.0       0.136634\n",
       "        8.0       0.137291\n",
       "        9.0       0.182540\n",
       "        10.0      0.146018\n",
       "dtype: float64"
      ]
     },
     "execution_count": 17,
     "metadata": {},
     "output_type": "execute_result"
    }
   ],
   "source": [
    "tenure_analysis = data.pivot_table(index=['Gender', 'Tenure'], columns='Exited', aggfunc='count')['CustomerId']\n",
    "\n",
    "tenure_analysis[1]/(tenure_analysis[0]+tenure_analysis[1])"
   ]
  },
  {
   "cell_type": "markdown",
   "id": "9ece8199",
   "metadata": {},
   "source": [
    "Аналогично анализу до этого, проверяем гендерную картину по покинувшим банк в зависимости от длительности нахождения в клиентах. Здесь также нет ничего примечательного. "
   ]
  },
  {
   "cell_type": "markdown",
   "id": "3490d448",
   "metadata": {},
   "source": [
    "Заполним пропуски Tenure медианным значением."
   ]
  },
  {
   "cell_type": "code",
   "execution_count": 18,
   "id": "db9cf78b",
   "metadata": {},
   "outputs": [],
   "source": [
    "data['Tenure'] = data['Tenure'].fillna(data['Tenure'].median())"
   ]
  },
  {
   "cell_type": "code",
   "execution_count": 19,
   "id": "49d3efac",
   "metadata": {},
   "outputs": [
    {
     "data": {
      "text/plain": [
       "Tenure\n",
       "0.0     0.235602\n",
       "1.0     0.223739\n",
       "2.0     0.194737\n",
       "3.0     0.213362\n",
       "4.0     0.207910\n",
       "5.0     0.201525\n",
       "6.0     0.200908\n",
       "7.0     0.172973\n",
       "8.0     0.186495\n",
       "9.0     0.219955\n",
       "10.0    0.206278\n",
       "Name: Exited, dtype: float64"
      ]
     },
     "execution_count": 19,
     "metadata": {},
     "output_type": "execute_result"
    }
   ],
   "source": [
    "data.groupby('Tenure')['Exited'].mean()"
   ]
  },
  {
   "cell_type": "markdown",
   "id": "6c6818f8",
   "metadata": {},
   "source": [
    "Значения вероятности отказа от услуг в Tenure == 5.0 сильно не изменились. Оставим в таком виде. "
   ]
  },
  {
   "cell_type": "markdown",
   "id": "9fd1ead0",
   "metadata": {},
   "source": [
    "#### Balance"
   ]
  },
  {
   "cell_type": "code",
   "execution_count": 20,
   "id": "515dce09",
   "metadata": {},
   "outputs": [
    {
     "data": {
      "image/png": "[encoded data removed]",
      "text/plain": [
       "<Figure size 558.875x500 with 1 Axes>"
      ]
     },
     "metadata": {},
     "output_type": "display_data"
    }
   ],
   "source": [
    "sns.relplot(data = data, x = 'Balance', y = 'Age', hue = 'Exited', alpha = 0.2)\n",
    "\n",
    "plt.show()"
   ]
  },
  {
   "cell_type": "markdown",
   "id": "d21cf225",
   "metadata": {},
   "source": [
    "Здесь примечательно, что выделяется 2 группы: те, кто покидает банк с нулем на счете и те, кто покидает банк, пока в нем все еще есть деньги. \n",
    "\n",
    "Полагаю, что деньги, конечно не остаются на счете, а их забирают в момент закрытия счета. "
   ]
  },
  {
   "cell_type": "code",
   "execution_count": 21,
   "id": "dff6e6a1",
   "metadata": {},
   "outputs": [
    {
     "data": {
      "image/png": "[encoded data removed]",
      "text/plain": [
       "<Figure size 640x480 with 1 Axes>"
      ]
     },
     "metadata": {},
     "output_type": "display_data"
    }
   ],
   "source": [
    "sns.countplot(data= data.query('Balance == 0'), x = 'Exited')\n",
    "\n",
    "plt.show()"
   ]
  },
  {
   "cell_type": "code",
   "execution_count": 22,
   "id": "863b3455",
   "metadata": {},
   "outputs": [
    {
     "data": {
      "image/png": "[encoded data removed]",
      "text/plain": [
       "<Figure size 640x480 with 1 Axes>"
      ]
     },
     "metadata": {},
     "output_type": "display_data"
    }
   ],
   "source": [
    "sns.countplot(data= data.query('Balance > 0'), x = 'Exited')\n",
    "\n",
    "plt.show()"
   ]
  },
  {
   "cell_type": "markdown",
   "id": "08c2449b",
   "metadata": {},
   "source": [
    "Видим, что у большей доли покинувших банк клиентов, на счету все еще были деньги."
   ]
  },
  {
   "cell_type": "code",
   "execution_count": 23,
   "id": "bffa8561",
   "metadata": {
    "scrolled": false
   },
   "outputs": [
    {
     "data": {
      "image/png": "[encoded data removed]",
      "text/plain": [
       "<Figure size 640x480 with 1 Axes>"
      ]
     },
     "metadata": {},
     "output_type": "display_data"
    }
   ],
   "source": [
    "data['Balance Groups'] = pd.qcut(data['Balance'], 10, duplicates = 'drop', labels = False)\n",
    "sns.countplot(data = data, x = 'Balance Groups', hue = 'Exited')\n",
    "\n",
    "plt.show()"
   ]
  },
  {
   "cell_type": "markdown",
   "id": "83ee10e2",
   "metadata": {},
   "source": [
    "#### NumOfProducts"
   ]
  },
  {
   "cell_type": "code",
   "execution_count": 24,
   "id": "1bf923c4",
   "metadata": {},
   "outputs": [
    {
     "data": {
      "image/png": "[encoded data removed]",
      "text/plain": [
       "<Figure size 640x480 with 1 Axes>"
      ]
     },
     "metadata": {},
     "output_type": "display_data"
    }
   ],
   "source": [
    "sns.countplot(data = data, x = 'NumOfProducts', hue = 'Exited')\n",
    "\n",
    "plt.show()"
   ]
  },
  {
   "cell_type": "markdown",
   "id": "06217c51",
   "metadata": {},
   "source": [
    "Можно выделить 3 группы:\n",
    "* Если продуктов 3 или 4, то вероятность ухода клиентов очень высока, хотя таких клиентов не очень много\n",
    "* Если продуктов 2, то вероятность ухода клиентов самая низкая\n",
    "* Один продукт - средняя вероятность, выше, чем с 2мя продуктами.\n",
    "\n",
    "При группировке можно будет использовать именно эти 3 группы.\n",
    "\n",
    "Посмотрим распределение количества продуктов по странам."
   ]
  },
  {
   "cell_type": "code",
   "execution_count": 25,
   "id": "5d02dc57",
   "metadata": {},
   "outputs": [
    {
     "data": {
      "text/plain": [
       "Geography\n",
       "France     1.530913\n",
       "Germany    1.519729\n",
       "Spain      1.539362\n",
       "Name: NumOfProducts, dtype: float64"
      ]
     },
     "execution_count": 25,
     "metadata": {},
     "output_type": "execute_result"
    }
   ],
   "source": [
    "data.groupby('Geography')['NumOfProducts'].mean()"
   ]
  },
  {
   "cell_type": "markdown",
   "id": "aadc3cfb",
   "metadata": {},
   "source": [
    "По странам примерно одинаковое количество продуктов."
   ]
  },
  {
   "cell_type": "code",
   "execution_count": 26,
   "id": "8164599d",
   "metadata": {},
   "outputs": [
    {
     "data": {
      "text/plain": [
       "Gender\n",
       "Female    1.544134\n",
       "Male      1.518600\n",
       "Name: NumOfProducts, dtype: float64"
      ]
     },
     "execution_count": 26,
     "metadata": {},
     "output_type": "execute_result"
    }
   ],
   "source": [
    "data.groupby('Gender')['NumOfProducts'].mean()"
   ]
  },
  {
   "cell_type": "markdown",
   "id": "da140a24",
   "metadata": {},
   "source": [
    "По гендеру также количество продуктов примерно одинаковое."
   ]
  },
  {
   "cell_type": "markdown",
   "id": "147add3b",
   "metadata": {},
   "source": [
    "#### HasCrCard"
   ]
  },
  {
   "cell_type": "code",
   "execution_count": 27,
   "id": "ab76b7ab",
   "metadata": {},
   "outputs": [
    {
     "data": {
      "image/png": "[encoded data removed]",
      "text/plain": [
       "<Figure size 640x480 with 1 Axes>"
      ]
     },
     "metadata": {},
     "output_type": "display_data"
    }
   ],
   "source": [
    "sns.countplot(data = data, x = 'HasCrCard', hue = 'Exited')\n",
    "\n",
    "plt.show()"
   ]
  },
  {
   "cell_type": "code",
   "execution_count": 28,
   "id": "98f68e8e",
   "metadata": {},
   "outputs": [
    {
     "data": {
      "text/plain": [
       "HasCrCard\n",
       "0    0.208149\n",
       "1    0.201843\n",
       "Name: Exited, dtype: float64"
      ]
     },
     "execution_count": 28,
     "metadata": {},
     "output_type": "execute_result"
    }
   ],
   "source": [
    "data.groupby('HasCrCard')['Exited'].mean()"
   ]
  },
  {
   "cell_type": "markdown",
   "id": "a4782bb4",
   "metadata": {},
   "source": [
    "Факт владения кредитной картой не влияет на то покинет банк клиент или нет. "
   ]
  },
  {
   "cell_type": "code",
   "execution_count": 29,
   "id": "7e511043",
   "metadata": {},
   "outputs": [
    {
     "data": {
      "text/plain": [
       "Balance Groups  HasCrCard\n",
       "0               0            0.154667\n",
       "                1            0.144696\n",
       "1               0            0.211480\n",
       "                1            0.191330\n",
       "2               0            0.242623\n",
       "                1            0.250360\n",
       "3               0            0.282051\n",
       "                1            0.284884\n",
       "4               0            0.239583\n",
       "                1            0.261236\n",
       "5               0            0.198582\n",
       "                1            0.247911\n",
       "6               0            0.271523\n",
       "                1            0.209169\n",
       "Name: Exited, dtype: float64"
      ]
     },
     "execution_count": 29,
     "metadata": {},
     "output_type": "execute_result"
    }
   ],
   "source": [
    "data.groupby(['Balance Groups', 'HasCrCard'])['Exited'].mean()"
   ]
  },
  {
   "cell_type": "markdown",
   "id": "c709d934",
   "metadata": {},
   "source": [
    "Видим небольшие различия среди сгруппированных по балансам клиентов. Например в 6 группе (самый большой баланс) клиент с картой имеет меньшую вероятность покинуть банк, чем без карты. В 5 группе наоборот. В 3 группе поровну. "
   ]
  },
  {
   "cell_type": "markdown",
   "id": "9ed62d26",
   "metadata": {},
   "source": [
    "#### IsActiveMember"
   ]
  },
  {
   "cell_type": "code",
   "execution_count": 30,
   "id": "7d77134e",
   "metadata": {},
   "outputs": [
    {
     "data": {
      "image/png": "[encoded data removed]",
      "text/plain": [
       "<Figure size 640x480 with 1 Axes>"
      ]
     },
     "metadata": {},
     "output_type": "display_data"
    }
   ],
   "source": [
    "sns.countplot(data = data, x = 'IsActiveMember', hue = 'Exited')\n",
    "\n",
    "plt.show()"
   ]
  },
  {
   "cell_type": "code",
   "execution_count": 31,
   "id": "0d1a6f02",
   "metadata": {},
   "outputs": [
    {
     "data": {
      "text/plain": [
       "IsActiveMember\n",
       "0    0.268509\n",
       "1    0.142691\n",
       "Name: Exited, dtype: float64"
      ]
     },
     "execution_count": 31,
     "metadata": {},
     "output_type": "execute_result"
    }
   ],
   "source": [
    "data.groupby('IsActiveMember')['Exited'].mean()"
   ]
  },
  {
   "cell_type": "markdown",
   "id": "ca427598",
   "metadata": {},
   "source": [
    "Менее активные клиенты имеют большую вероятность покинуть банк."
   ]
  },
  {
   "cell_type": "markdown",
   "id": "4da94072",
   "metadata": {},
   "source": [
    "#### EstimatedSalary"
   ]
  },
  {
   "cell_type": "code",
   "execution_count": 32,
   "id": "25a83c56",
   "metadata": {},
   "outputs": [
    {
     "data": {
      "image/png": "[encoded data removed]",
      "text/plain": [
       "<Figure size 640x480 with 1 Axes>"
      ]
     },
     "metadata": {},
     "output_type": "display_data"
    }
   ],
   "source": [
    "data['Salary Groups'] = pd.qcut(data['EstimatedSalary'], 10, duplicates = 'drop', labels = False)\n",
    "sns.countplot(data = data, x = 'Salary Groups', hue = 'Exited')\n",
    "\n",
    "plt.show()"
   ]
  },
  {
   "cell_type": "code",
   "execution_count": 33,
   "id": "8b92773d",
   "metadata": {},
   "outputs": [
    {
     "data": {
      "text/plain": [
       "Salary Groups\n",
       "0    0.200\n",
       "1    0.199\n",
       "2    0.197\n",
       "3    0.202\n",
       "4    0.197\n",
       "5    0.207\n",
       "6    0.193\n",
       "7    0.211\n",
       "8    0.219\n",
       "9    0.212\n",
       "Name: Exited, dtype: float64"
      ]
     },
     "execution_count": 33,
     "metadata": {},
     "output_type": "execute_result"
    }
   ],
   "source": [
    "data.groupby('Salary Groups')['Exited'].mean()"
   ]
  },
  {
   "cell_type": "markdown",
   "id": "3567cc39",
   "metadata": {},
   "source": [
    "Вероятность покинуть банк не зависит от размера заработной платы клиента."
   ]
  },
  {
   "cell_type": "markdown",
   "id": "8a4ce8d7",
   "metadata": {},
   "source": [
    "#### Разное"
   ]
  },
  {
   "cell_type": "markdown",
   "id": "0865353d",
   "metadata": {},
   "source": [
    "Поскольку эта задача судя по всему сгенерирована и не основана на реальных данных можно поискать пасхалки"
   ]
  },
  {
   "cell_type": "code",
   "execution_count": 34,
   "id": "b9733b8a",
   "metadata": {},
   "outputs": [],
   "source": [
    "def first_letter(row):\n",
    "    name = row['Surname']\n",
    "    return name[0]\n",
    "\n",
    "data['First Letter'] = data.apply(first_letter, axis = 1)"
   ]
  },
  {
   "cell_type": "code",
   "execution_count": 35,
   "id": "1f520f9e",
   "metadata": {},
   "outputs": [
    {
     "data": {
      "text/html": [
       "<div>\n",
       "<style scoped>\n",
       "    .dataframe tbody tr th:only-of-type {\n",
       "        vertical-align: middle;\n",
       "    }\n",
       "\n",
       "    .dataframe tbody tr th {\n",
       "        vertical-align: top;\n",
       "    }\n",
       "\n",
       "    .dataframe thead th {\n",
       "        text-align: right;\n",
       "    }\n",
       "</style>\n",
       "<table border=\"1\" class=\"dataframe\">\n",
       "  <thead>\n",
       "    <tr style=\"text-align: right;\">\n",
       "      <th></th>\n",
       "      <th>mean</th>\n",
       "      <th>count</th>\n",
       "    </tr>\n",
       "    <tr>\n",
       "      <th>First Letter</th>\n",
       "      <th></th>\n",
       "      <th></th>\n",
       "    </tr>\n",
       "  </thead>\n",
       "  <tbody>\n",
       "    <tr>\n",
       "      <th>A</th>\n",
       "      <td>0.201550</td>\n",
       "      <td>387</td>\n",
       "    </tr>\n",
       "    <tr>\n",
       "      <th>B</th>\n",
       "      <td>0.203438</td>\n",
       "      <td>698</td>\n",
       "    </tr>\n",
       "    <tr>\n",
       "      <th>C</th>\n",
       "      <td>0.203327</td>\n",
       "      <td>1082</td>\n",
       "    </tr>\n",
       "    <tr>\n",
       "      <th>D</th>\n",
       "      <td>0.212121</td>\n",
       "      <td>330</td>\n",
       "    </tr>\n",
       "    <tr>\n",
       "      <th>E</th>\n",
       "      <td>0.227545</td>\n",
       "      <td>167</td>\n",
       "    </tr>\n",
       "    <tr>\n",
       "      <th>F</th>\n",
       "      <td>0.215686</td>\n",
       "      <td>408</td>\n",
       "    </tr>\n",
       "    <tr>\n",
       "      <th>G</th>\n",
       "      <td>0.208738</td>\n",
       "      <td>412</td>\n",
       "    </tr>\n",
       "    <tr>\n",
       "      <th>H</th>\n",
       "      <td>0.200913</td>\n",
       "      <td>657</td>\n",
       "    </tr>\n",
       "    <tr>\n",
       "      <th>I</th>\n",
       "      <td>0.192857</td>\n",
       "      <td>140</td>\n",
       "    </tr>\n",
       "    <tr>\n",
       "      <th>J</th>\n",
       "      <td>0.208589</td>\n",
       "      <td>163</td>\n",
       "    </tr>\n",
       "    <tr>\n",
       "      <th>K</th>\n",
       "      <td>0.190840</td>\n",
       "      <td>393</td>\n",
       "    </tr>\n",
       "    <tr>\n",
       "      <th>L</th>\n",
       "      <td>0.215649</td>\n",
       "      <td>524</td>\n",
       "    </tr>\n",
       "    <tr>\n",
       "      <th>M</th>\n",
       "      <td>0.214649</td>\n",
       "      <td>983</td>\n",
       "    </tr>\n",
       "    <tr>\n",
       "      <th>N</th>\n",
       "      <td>0.216667</td>\n",
       "      <td>300</td>\n",
       "    </tr>\n",
       "    <tr>\n",
       "      <th>O</th>\n",
       "      <td>0.201117</td>\n",
       "      <td>358</td>\n",
       "    </tr>\n",
       "    <tr>\n",
       "      <th>P</th>\n",
       "      <td>0.193966</td>\n",
       "      <td>464</td>\n",
       "    </tr>\n",
       "    <tr>\n",
       "      <th>Q</th>\n",
       "      <td>0.500000</td>\n",
       "      <td>8</td>\n",
       "    </tr>\n",
       "    <tr>\n",
       "      <th>R</th>\n",
       "      <td>0.212500</td>\n",
       "      <td>320</td>\n",
       "    </tr>\n",
       "    <tr>\n",
       "      <th>S</th>\n",
       "      <td>0.198519</td>\n",
       "      <td>675</td>\n",
       "    </tr>\n",
       "    <tr>\n",
       "      <th>T</th>\n",
       "      <td>0.184211</td>\n",
       "      <td>570</td>\n",
       "    </tr>\n",
       "    <tr>\n",
       "      <th>U</th>\n",
       "      <td>0.205607</td>\n",
       "      <td>107</td>\n",
       "    </tr>\n",
       "    <tr>\n",
       "      <th>V</th>\n",
       "      <td>0.174419</td>\n",
       "      <td>86</td>\n",
       "    </tr>\n",
       "    <tr>\n",
       "      <th>W</th>\n",
       "      <td>0.205882</td>\n",
       "      <td>476</td>\n",
       "    </tr>\n",
       "    <tr>\n",
       "      <th>Y</th>\n",
       "      <td>0.176724</td>\n",
       "      <td>232</td>\n",
       "    </tr>\n",
       "    <tr>\n",
       "      <th>Z</th>\n",
       "      <td>0.150000</td>\n",
       "      <td>60</td>\n",
       "    </tr>\n",
       "  </tbody>\n",
       "</table>\n",
       "</div>"
      ],
      "text/plain": [
       "                  mean  count\n",
       "First Letter                 \n",
       "A             0.201550    387\n",
       "B             0.203438    698\n",
       "C             0.203327   1082\n",
       "D             0.212121    330\n",
       "E             0.227545    167\n",
       "F             0.215686    408\n",
       "G             0.208738    412\n",
       "H             0.200913    657\n",
       "I             0.192857    140\n",
       "J             0.208589    163\n",
       "K             0.190840    393\n",
       "L             0.215649    524\n",
       "M             0.214649    983\n",
       "N             0.216667    300\n",
       "O             0.201117    358\n",
       "P             0.193966    464\n",
       "Q             0.500000      8\n",
       "R             0.212500    320\n",
       "S             0.198519    675\n",
       "T             0.184211    570\n",
       "U             0.205607    107\n",
       "V             0.174419     86\n",
       "W             0.205882    476\n",
       "Y             0.176724    232\n",
       "Z             0.150000     60"
      ]
     },
     "execution_count": 35,
     "metadata": {},
     "output_type": "execute_result"
    }
   ],
   "source": [
    "data.groupby('First Letter')['Exited'].agg(['mean', 'count'])"
   ]
  },
  {
   "cell_type": "code",
   "execution_count": 36,
   "id": "7fe68c14",
   "metadata": {},
   "outputs": [],
   "source": [
    "def name_len(row):\n",
    "    name = row['Surname']\n",
    "    return len(name)\n",
    "\n",
    "data['Name Length'] = data.apply(name_len, axis = 1)"
   ]
  },
  {
   "cell_type": "code",
   "execution_count": 37,
   "id": "6a90ebd3",
   "metadata": {},
   "outputs": [
    {
     "data": {
      "text/html": [
       "<div>\n",
       "<style scoped>\n",
       "    .dataframe tbody tr th:only-of-type {\n",
       "        vertical-align: middle;\n",
       "    }\n",
       "\n",
       "    .dataframe tbody tr th {\n",
       "        vertical-align: top;\n",
       "    }\n",
       "\n",
       "    .dataframe thead th {\n",
       "        text-align: right;\n",
       "    }\n",
       "</style>\n",
       "<table border=\"1\" class=\"dataframe\">\n",
       "  <thead>\n",
       "    <tr style=\"text-align: right;\">\n",
       "      <th></th>\n",
       "      <th>mean</th>\n",
       "      <th>count</th>\n",
       "    </tr>\n",
       "    <tr>\n",
       "      <th>Name Length</th>\n",
       "      <th></th>\n",
       "      <th></th>\n",
       "    </tr>\n",
       "  </thead>\n",
       "  <tbody>\n",
       "    <tr>\n",
       "      <th>2</th>\n",
       "      <td>0.202703</td>\n",
       "      <td>296</td>\n",
       "    </tr>\n",
       "    <tr>\n",
       "      <th>3</th>\n",
       "      <td>0.196597</td>\n",
       "      <td>529</td>\n",
       "    </tr>\n",
       "    <tr>\n",
       "      <th>4</th>\n",
       "      <td>0.189349</td>\n",
       "      <td>1183</td>\n",
       "    </tr>\n",
       "    <tr>\n",
       "      <th>5</th>\n",
       "      <td>0.207535</td>\n",
       "      <td>1566</td>\n",
       "    </tr>\n",
       "    <tr>\n",
       "      <th>6</th>\n",
       "      <td>0.198385</td>\n",
       "      <td>1734</td>\n",
       "    </tr>\n",
       "    <tr>\n",
       "      <th>7</th>\n",
       "      <td>0.206319</td>\n",
       "      <td>1551</td>\n",
       "    </tr>\n",
       "    <tr>\n",
       "      <th>8</th>\n",
       "      <td>0.211277</td>\n",
       "      <td>1543</td>\n",
       "    </tr>\n",
       "    <tr>\n",
       "      <th>9</th>\n",
       "      <td>0.201143</td>\n",
       "      <td>875</td>\n",
       "    </tr>\n",
       "    <tr>\n",
       "      <th>10</th>\n",
       "      <td>0.231608</td>\n",
       "      <td>367</td>\n",
       "    </tr>\n",
       "    <tr>\n",
       "      <th>11</th>\n",
       "      <td>0.220000</td>\n",
       "      <td>150</td>\n",
       "    </tr>\n",
       "    <tr>\n",
       "      <th>12</th>\n",
       "      <td>0.125000</td>\n",
       "      <td>64</td>\n",
       "    </tr>\n",
       "    <tr>\n",
       "      <th>13</th>\n",
       "      <td>0.189655</td>\n",
       "      <td>58</td>\n",
       "    </tr>\n",
       "    <tr>\n",
       "      <th>14</th>\n",
       "      <td>0.238095</td>\n",
       "      <td>21</td>\n",
       "    </tr>\n",
       "    <tr>\n",
       "      <th>15</th>\n",
       "      <td>0.257143</td>\n",
       "      <td>35</td>\n",
       "    </tr>\n",
       "    <tr>\n",
       "      <th>16</th>\n",
       "      <td>0.210526</td>\n",
       "      <td>19</td>\n",
       "    </tr>\n",
       "    <tr>\n",
       "      <th>17</th>\n",
       "      <td>0.166667</td>\n",
       "      <td>6</td>\n",
       "    </tr>\n",
       "    <tr>\n",
       "      <th>19</th>\n",
       "      <td>0.500000</td>\n",
       "      <td>2</td>\n",
       "    </tr>\n",
       "    <tr>\n",
       "      <th>23</th>\n",
       "      <td>1.000000</td>\n",
       "      <td>1</td>\n",
       "    </tr>\n",
       "  </tbody>\n",
       "</table>\n",
       "</div>"
      ],
      "text/plain": [
       "                 mean  count\n",
       "Name Length                 \n",
       "2            0.202703    296\n",
       "3            0.196597    529\n",
       "4            0.189349   1183\n",
       "5            0.207535   1566\n",
       "6            0.198385   1734\n",
       "7            0.206319   1551\n",
       "8            0.211277   1543\n",
       "9            0.201143    875\n",
       "10           0.231608    367\n",
       "11           0.220000    150\n",
       "12           0.125000     64\n",
       "13           0.189655     58\n",
       "14           0.238095     21\n",
       "15           0.257143     35\n",
       "16           0.210526     19\n",
       "17           0.166667      6\n",
       "19           0.500000      2\n",
       "23           1.000000      1"
      ]
     },
     "execution_count": 37,
     "metadata": {},
     "output_type": "execute_result"
    }
   ],
   "source": [
    "data.groupby('Name Length')['Exited'].agg(['mean', 'count'])"
   ]
  },
  {
   "cell_type": "markdown",
   "id": "30f8e6c3",
   "metadata": {},
   "source": [
    "К сожалению ничего интересного я не нашел, возможно имя добавили просто для порядка."
   ]
  },
  {
   "cell_type": "markdown",
   "id": "798cd7a9",
   "metadata": {},
   "source": [
    "### Выводы по анализу данных"
   ]
  },
  {
   "cell_type": "markdown",
   "id": "e543b308",
   "metadata": {},
   "source": [
    "Из исследовательского анализа данных видно, что есть определенная связь между Gender, Geography, Age и по остальным параметрам связь либо отсутствует либо различия между вероятностями ухода клиента по отдельности не могут оказывать решительного влияния на конечный итог. \n",
    "\n",
    "Таким образом для решения задачи определения вероятности того, что тот или иной клиент покинет банк требуется применить методы машинного обучения, для связи большого количества параметров с незначительными отклонениями. \n",
    "\n",
    "Предстоит решить задачу классификации. "
   ]
  },
  {
   "cell_type": "markdown",
   "id": "99265112",
   "metadata": {},
   "source": [
    "## Баланс классов"
   ]
  },
  {
   "cell_type": "markdown",
   "id": "75435bee",
   "metadata": {},
   "source": [
    "Исследуем баланс классов между Exited == 1 и Exited == 0"
   ]
  },
  {
   "cell_type": "code",
   "execution_count": 38,
   "id": "bbbeb8bc",
   "metadata": {},
   "outputs": [
    {
     "data": {
      "text/plain": [
       "Exited\n",
       "0    7963\n",
       "1    2037\n",
       "Name: Exited, dtype: int64"
      ]
     },
     "execution_count": 38,
     "metadata": {},
     "output_type": "execute_result"
    }
   ],
   "source": [
    "data.groupby('Exited')['Exited'].count()"
   ]
  },
  {
   "cell_type": "markdown",
   "id": "56d7f4ed",
   "metadata": {},
   "source": [
    "Наблюдений с Exited == 1 в 4 раза меньше, чем с Exited == 0. Классы не сбалансированы, что может в свою очередь оказать влияние на качество модели. \n",
    "\n",
    "Мы можем применить 2 подхода. Либо сделать upsampling признаков с Exited == 0 в 4 раза, либо при обучении модели указывать class_weight = 'balanced'\n",
    "\n",
    "Также баланс классов нужно будет учесть при разделении выборки на тренировочную и валидационную выборку. "
   ]
  },
  {
   "cell_type": "markdown",
   "id": "15660393",
   "metadata": {},
   "source": [
    "## Подготовка выборки"
   ]
  },
  {
   "cell_type": "markdown",
   "id": "c6bc262d",
   "metadata": {},
   "source": [
    "### Подготовка признаков, кодирование"
   ]
  },
  {
   "cell_type": "code",
   "execution_count": 39,
   "id": "e6e6fd86",
   "metadata": {},
   "outputs": [
    {
     "name": "stdout",
     "output_type": "stream",
     "text": [
      "<class 'pandas.core.frame.DataFrame'>\n",
      "RangeIndex: 10000 entries, 0 to 9999\n",
      "Data columns (total 20 columns):\n",
      " #   Column           Non-Null Count  Dtype  \n",
      "---  ------           --------------  -----  \n",
      " 0   RowNumber        10000 non-null  int64  \n",
      " 1   CustomerId       10000 non-null  int64  \n",
      " 2   Surname          10000 non-null  object \n",
      " 3   CreditScore      10000 non-null  int64  \n",
      " 4   Geography        10000 non-null  object \n",
      " 5   Gender           10000 non-null  object \n",
      " 6   Age              10000 non-null  int64  \n",
      " 7   Tenure           10000 non-null  float64\n",
      " 8   Balance          10000 non-null  float64\n",
      " 9   NumOfProducts    10000 non-null  int64  \n",
      " 10  HasCrCard        10000 non-null  int64  \n",
      " 11  IsActiveMember   10000 non-null  int64  \n",
      " 12  EstimatedSalary  10000 non-null  float64\n",
      " 13  Exited           10000 non-null  int64  \n",
      " 14  Credit Groups    10000 non-null  int64  \n",
      " 15  Age Groups       10000 non-null  int64  \n",
      " 16  Balance Groups   10000 non-null  int64  \n",
      " 17  Salary Groups    10000 non-null  int64  \n",
      " 18  First Letter     10000 non-null  object \n",
      " 19  Name Length      10000 non-null  int64  \n",
      "dtypes: float64(3), int64(13), object(4)\n",
      "memory usage: 1.5+ MB\n"
     ]
    }
   ],
   "source": [
    "data.info()"
   ]
  },
  {
   "cell_type": "markdown",
   "id": "c20fbef2",
   "metadata": {},
   "source": [
    "В нашем распоряжении 19 признаков, из которых:\n",
    "\n",
    "* RowNumber, CustomerId, Surename должны быть исключены, т.к. не имеют связи с Exited, не дают информации\n",
    "* Age, CreditScore, Balance, EstimatedSalary - это численные значения, которые были сгруппированы в Age Groups, Balance Groups, Credit Groups и Salary Groups для использования в модели классификации. \n",
    "* Geography, Gender - объекты и должны быть перекодированы\n",
    "* First Letter и Name Length также объекты, но будут на первом этапе исключены из выборки, т.к. не дают выигрыша в информации\n",
    "* Tenure, NumOfProducts, HasCrCard, IsActiveMember - категориальные значения, их кодирование по сути не обязательно\n",
    "\n",
    "В качестве метода кодирования будет применен OHE"
   ]
  },
  {
   "cell_type": "code",
   "execution_count": 40,
   "id": "ce4a8ff2",
   "metadata": {},
   "outputs": [],
   "source": [
    "#category_features = ['Age Groups', 'Credit Groups', 'Balance Groups', 'Salary Groups',\n",
    "                    #'Geography', 'Gender', 'Tenure', 'NumOfProducts', 'HasCrCard', 'IsActiveMember']\n",
    "\n",
    "category_features = ['Geography', 'Gender']"
   ]
  },
  {
   "cell_type": "code",
   "execution_count": 41,
   "id": "9094be9e",
   "metadata": {},
   "outputs": [],
   "source": [
    "features_ohe = pd.DataFrame()\n",
    "\n",
    "for cat in category_features:\n",
    "    feature_dummies = pd.get_dummies(data[cat], prefix = cat, drop_first = True)\n",
    "    features_ohe = pd.concat([features_ohe, feature_dummies], axis = 1)"
   ]
  },
  {
   "cell_type": "code",
   "execution_count": 42,
   "id": "103a29ae",
   "metadata": {},
   "outputs": [],
   "source": [
    "features_to_add = ['Age Groups', 'Credit Groups', 'Balance Groups', 'Salary Groups',\n",
    "                 'Tenure', 'NumOfProducts', 'HasCrCard', 'IsActiveMember']"
   ]
  },
  {
   "cell_type": "code",
   "execution_count": 43,
   "id": "c8e5768a",
   "metadata": {},
   "outputs": [],
   "source": [
    "features_ohe[features_to_add] = data[features_to_add]"
   ]
  },
  {
   "cell_type": "code",
   "execution_count": 44,
   "id": "2e0173f4",
   "metadata": {},
   "outputs": [
    {
     "data": {
      "text/html": [
       "<div>\n",
       "<style scoped>\n",
       "    .dataframe tbody tr th:only-of-type {\n",
       "        vertical-align: middle;\n",
       "    }\n",
       "\n",
       "    .dataframe tbody tr th {\n",
       "        vertical-align: top;\n",
       "    }\n",
       "\n",
       "    .dataframe thead th {\n",
       "        text-align: right;\n",
       "    }\n",
       "</style>\n",
       "<table border=\"1\" class=\"dataframe\">\n",
       "  <thead>\n",
       "    <tr style=\"text-align: right;\">\n",
       "      <th></th>\n",
       "      <th>Geography_Germany</th>\n",
       "      <th>Geography_Spain</th>\n",
       "      <th>Gender_Male</th>\n",
       "      <th>Age Groups</th>\n",
       "      <th>Credit Groups</th>\n",
       "      <th>Balance Groups</th>\n",
       "      <th>Salary Groups</th>\n",
       "      <th>Tenure</th>\n",
       "      <th>NumOfProducts</th>\n",
       "      <th>HasCrCard</th>\n",
       "      <th>IsActiveMember</th>\n",
       "    </tr>\n",
       "  </thead>\n",
       "  <tbody>\n",
       "    <tr>\n",
       "      <th>0</th>\n",
       "      <td>0</td>\n",
       "      <td>0</td>\n",
       "      <td>0</td>\n",
       "      <td>6</td>\n",
       "      <td>3</td>\n",
       "      <td>0</td>\n",
       "      <td>5</td>\n",
       "      <td>2.0</td>\n",
       "      <td>1</td>\n",
       "      <td>1</td>\n",
       "      <td>1</td>\n",
       "    </tr>\n",
       "    <tr>\n",
       "      <th>1</th>\n",
       "      <td>0</td>\n",
       "      <td>1</td>\n",
       "      <td>0</td>\n",
       "      <td>6</td>\n",
       "      <td>3</td>\n",
       "      <td>1</td>\n",
       "      <td>5</td>\n",
       "      <td>1.0</td>\n",
       "      <td>1</td>\n",
       "      <td>0</td>\n",
       "      <td>1</td>\n",
       "    </tr>\n",
       "    <tr>\n",
       "      <th>2</th>\n",
       "      <td>0</td>\n",
       "      <td>0</td>\n",
       "      <td>0</td>\n",
       "      <td>6</td>\n",
       "      <td>0</td>\n",
       "      <td>6</td>\n",
       "      <td>5</td>\n",
       "      <td>8.0</td>\n",
       "      <td>3</td>\n",
       "      <td>1</td>\n",
       "      <td>0</td>\n",
       "    </tr>\n",
       "    <tr>\n",
       "      <th>3</th>\n",
       "      <td>0</td>\n",
       "      <td>0</td>\n",
       "      <td>0</td>\n",
       "      <td>5</td>\n",
       "      <td>6</td>\n",
       "      <td>0</td>\n",
       "      <td>4</td>\n",
       "      <td>1.0</td>\n",
       "      <td>2</td>\n",
       "      <td>0</td>\n",
       "      <td>0</td>\n",
       "    </tr>\n",
       "    <tr>\n",
       "      <th>4</th>\n",
       "      <td>0</td>\n",
       "      <td>1</td>\n",
       "      <td>0</td>\n",
       "      <td>7</td>\n",
       "      <td>9</td>\n",
       "      <td>4</td>\n",
       "      <td>3</td>\n",
       "      <td>2.0</td>\n",
       "      <td>1</td>\n",
       "      <td>1</td>\n",
       "      <td>1</td>\n",
       "    </tr>\n",
       "  </tbody>\n",
       "</table>\n",
       "</div>"
      ],
      "text/plain": [
       "   Geography_Germany  Geography_Spain  Gender_Male  Age Groups  Credit Groups  \\\n",
       "0                  0                0            0           6              3   \n",
       "1                  0                1            0           6              3   \n",
       "2                  0                0            0           6              0   \n",
       "3                  0                0            0           5              6   \n",
       "4                  0                1            0           7              9   \n",
       "\n",
       "   Balance Groups  Salary Groups  Tenure  NumOfProducts  HasCrCard  \\\n",
       "0               0              5     2.0              1          1   \n",
       "1               1              5     1.0              1          0   \n",
       "2               6              5     8.0              3          1   \n",
       "3               0              4     1.0              2          0   \n",
       "4               4              3     2.0              1          1   \n",
       "\n",
       "   IsActiveMember  \n",
       "0               1  \n",
       "1               1  \n",
       "2               0  \n",
       "3               0  \n",
       "4               1  "
      ]
     },
     "execution_count": 44,
     "metadata": {},
     "output_type": "execute_result"
    }
   ],
   "source": [
    "features_ohe.head()"
   ]
  },
  {
   "cell_type": "code",
   "execution_count": 45,
   "id": "dbf560b9",
   "metadata": {},
   "outputs": [],
   "source": [
    "targets = data['Exited']\n",
    "#features = data.drop('Exited', axis = 1)"
   ]
  },
  {
   "cell_type": "markdown",
   "id": "9e9957ca",
   "metadata": {},
   "source": [
    "### Обучающая и тестовая выборка"
   ]
  },
  {
   "cell_type": "code",
   "execution_count": 46,
   "id": "75c057f1",
   "metadata": {},
   "outputs": [],
   "source": [
    "data_train_features, test_features, data_train_targets, test_targets = train_test_split(\n",
    "    features_ohe, targets, test_size=0.2, random_state=12345, stratify = targets)"
   ]
  },
  {
   "cell_type": "markdown",
   "id": "ee1b0233",
   "metadata": {},
   "source": [
    "### Обучающая и валидационная выборка без upsampling"
   ]
  },
  {
   "cell_type": "code",
   "execution_count": 47,
   "id": "31b34ab9",
   "metadata": {},
   "outputs": [],
   "source": [
    "features_train, features_valid, targets_train, targets_valid = train_test_split(\n",
    "    data_train_features, data_train_targets, test_size=0.25, random_state=12345, stratify = data_train_targets)"
   ]
  },
  {
   "cell_type": "markdown",
   "id": "2df8d696",
   "metadata": {},
   "source": [
    "### Тренировочная и валидационная выборка с upsampling"
   ]
  },
  {
   "cell_type": "code",
   "execution_count": 48,
   "id": "d6c5a84a",
   "metadata": {},
   "outputs": [],
   "source": [
    "#  функция для upsampling из лекций\n",
    "def upsample(features, target, repeat): \n",
    "    features_zeros = features[target == 0] \n",
    "    features_ones = features[target == 1] \n",
    "    target_zeros = target[target == 0] \n",
    "    target_ones = target[target == 1]\n",
    "    \n",
    "    features_upsampled = pd.concat([features_zeros] + [features_ones] * repeat) \n",
    "    target_upsampled = pd.concat([target_zeros] + [target_ones] * repeat)\n",
    "    features_upsampled, target_upsampled = shuffle(features_upsampled, target_upsampled, random_state=12345)\n",
    "    \n",
    "    return features_upsampled, target_upsampled"
   ]
  },
  {
   "cell_type": "code",
   "execution_count": 49,
   "id": "0357c956",
   "metadata": {},
   "outputs": [],
   "source": [
    "features_upsampled, targets_upsampled = upsample(features_train, targets_train, 4)"
   ]
  },
  {
   "cell_type": "code",
   "execution_count": 50,
   "id": "699250c8",
   "metadata": {},
   "outputs": [],
   "source": [
    "use_upsampled = False\n",
    "\n",
    "if use_upsampled == True:\n",
    "    features_train = features_upsampled\n",
    "    targets_train = targets_upsampled"
   ]
  },
  {
   "cell_type": "markdown",
   "id": "d4413b5b",
   "metadata": {},
   "source": [
    "## Выбор модели"
   ]
  },
  {
   "cell_type": "markdown",
   "id": "2348f600",
   "metadata": {},
   "source": [
    "Для решения задачи классификации в нашем распоряжении 3 модели:\n",
    "\n",
    "* DecisionTree\n",
    "* RandomForest\n",
    "* LogisticRegression\n",
    "\n",
    "Посмотрим, какая из них даст лучший результат без глубокого тюнинга гиперпараметров"
   ]
  },
  {
   "cell_type": "markdown",
   "id": "6dfcd19c",
   "metadata": {},
   "source": [
    "### Decision Tree"
   ]
  },
  {
   "cell_type": "code",
   "execution_count": 51,
   "id": "a055bdb7",
   "metadata": {},
   "outputs": [
    {
     "name": "stdout",
     "output_type": "stream",
     "text": [
      "0.5547226386806597 7\n"
     ]
    }
   ],
   "source": [
    "best_dt_model = None\n",
    "best_dt_result = 0\n",
    "best_dt_depth = 0\n",
    "\n",
    "for depth in range(1,20):\n",
    "    model = DecisionTreeClassifier(random_state = 12345, max_depth = depth)\n",
    "    model.fit(features_train, targets_train)\n",
    "    predicted_valid = model.predict(features_valid)\n",
    "    result = f1_score(targets_valid, predicted_valid)\n",
    "    if result > best_dt_result:\n",
    "        best_dt_model = model\n",
    "        best_dt_result = result\n",
    "        best_dt_depth = depth\n",
    "        \n",
    "print(best_dt_result, best_dt_depth)"
   ]
  },
  {
   "cell_type": "markdown",
   "id": "9be22f45",
   "metadata": {},
   "source": [
    "### Random Forest"
   ]
  },
  {
   "cell_type": "code",
   "execution_count": 52,
   "id": "ba6fbf35",
   "metadata": {},
   "outputs": [
    {
     "name": "stdout",
     "output_type": "stream",
     "text": [
      "0.42066420664206644 20 5\n"
     ]
    }
   ],
   "source": [
    "best_rf_model = None\n",
    "best_rf_result = 0\n",
    "best_rf_depth = 0\n",
    "best_rf_est = 0\n",
    "\n",
    "for est in range(10, 51, 10):\n",
    "    for depth in range(1,6):\n",
    "        model = RandomForestClassifier(random_state = 12345, n_estimators=est, max_depth = depth)\n",
    "        model.fit(features_train, targets_train)\n",
    "        predicted_valid = model.predict(features_valid)\n",
    "        result = f1_score(targets_valid, predicted_valid)\n",
    "        if result > best_rf_result:\n",
    "            best_rf_model = model\n",
    "            best_rf_result = result\n",
    "            best_rf_depth = depth\n",
    "            best_rf_est = est\n",
    "        \n",
    "print(best_rf_result,best_rf_est, best_rf_depth)"
   ]
  },
  {
   "cell_type": "markdown",
   "id": "44fdf73f",
   "metadata": {},
   "source": [
    "### Logistic Regression"
   ]
  },
  {
   "cell_type": "code",
   "execution_count": 53,
   "id": "5e4318a3",
   "metadata": {},
   "outputs": [
    {
     "name": "stdout",
     "output_type": "stream",
     "text": [
      "0.4059590316573557\n"
     ]
    }
   ],
   "source": [
    "lr_model = LogisticRegression(random_state=12345, solver='lbfgs', max_iter=1000)\n",
    "lr_model.fit(features_train, targets_train)\n",
    "predicted_valid = model.predict(features_valid)\n",
    "result = f1_score(targets_valid, predicted_valid)\n",
    "\n",
    "print(result)"
   ]
  },
  {
   "cell_type": "markdown",
   "id": "a13962aa",
   "metadata": {},
   "source": [
    "Проверим модель на адекватность."
   ]
  },
  {
   "cell_type": "markdown",
   "id": "0b2a4410",
   "metadata": {},
   "source": [
    "### Константная модель"
   ]
  },
  {
   "cell_type": "code",
   "execution_count": 54,
   "id": "92502c2c",
   "metadata": {},
   "outputs": [
    {
     "name": "stdout",
     "output_type": "stream",
     "text": [
      "0.7965\n",
      "0.0\n",
      "0.5\n"
     ]
    }
   ],
   "source": [
    "targets_pred_constant = pd.Series(0 for i in range(len(targets_valid)))\n",
    "print(accuracy_score(targets_valid, targets_pred_constant))\n",
    "print(f1_score(targets_valid, targets_pred_constant))\n",
    "print(roc_auc_score(targets_valid, targets_pred_constant))"
   ]
  },
  {
   "cell_type": "markdown",
   "id": "be00c512",
   "metadata": {},
   "source": [
    "### Константная модель v2 (с единицами)"
   ]
  },
  {
   "cell_type": "code",
   "execution_count": 55,
   "id": "bb32ddc6",
   "metadata": {},
   "outputs": [
    {
     "name": "stdout",
     "output_type": "stream",
     "text": [
      "0.2035\n",
      "0.3381803074366431\n",
      "0.5\n"
     ]
    }
   ],
   "source": [
    "targets_pred_constant = pd.Series(1 for i in range(len(targets_valid)))\n",
    "print(accuracy_score(targets_valid, targets_pred_constant))\n",
    "print(f1_score(targets_valid, targets_pred_constant))\n",
    "print(roc_auc_score(targets_valid, targets_pred_constant))"
   ]
  },
  {
   "cell_type": "markdown",
   "id": "a45c7b2b",
   "metadata": {},
   "source": [
    "Константная модель по метрике F1-score хуже, чем все модели.\n",
    "\n",
    "Лучше всего с дисбалансом классов, по метрике F1-score, показала себя модель Дерева решений. \n",
    "\n",
    "Однако, мы помним, что классы не сбалансированы. Посмотрим поможет ли балансировка классов при обучении улучшить точность моделей. "
   ]
  },
  {
   "cell_type": "markdown",
   "id": "a1f6962d",
   "metadata": {},
   "source": [
    "### Decision Tree Balanced"
   ]
  },
  {
   "cell_type": "code",
   "execution_count": 56,
   "id": "a1f0cce7",
   "metadata": {},
   "outputs": [
    {
     "name": "stdout",
     "output_type": "stream",
     "text": [
      "0.596039603960396 6\n"
     ]
    }
   ],
   "source": [
    "best_dt_model = None\n",
    "best_dt_result = 0\n",
    "best_dt_depth = 0\n",
    "\n",
    "for depth in range(1,20):\n",
    "    model = DecisionTreeClassifier(random_state = 12345, max_depth = depth, class_weight = 'balanced')\n",
    "    model.fit(features_train, targets_train)\n",
    "    predicted_valid = model.predict(features_valid)\n",
    "    result = f1_score(targets_valid, predicted_valid)\n",
    "    if result > best_dt_result:\n",
    "        best_dt_model = model\n",
    "        best_dt_result = result\n",
    "        best_dt_depth = depth\n",
    "        \n",
    "print(best_dt_result, best_dt_depth)"
   ]
  },
  {
   "cell_type": "markdown",
   "id": "7de75fe0",
   "metadata": {},
   "source": [
    "### Random Forest Balanced"
   ]
  },
  {
   "cell_type": "code",
   "execution_count": 57,
   "id": "99160264",
   "metadata": {},
   "outputs": [
    {
     "name": "stdout",
     "output_type": "stream",
     "text": [
      "0.6133866133866134 30 5\n"
     ]
    }
   ],
   "source": [
    "best_rf_model = None\n",
    "best_rf_result = 0\n",
    "best_rf_depth = 0\n",
    "best_rf_est = 0\n",
    "\n",
    "for est in range(10, 51, 10):\n",
    "    for depth in range(1,6):\n",
    "        model = RandomForestClassifier(random_state = 12345, n_estimators=est, max_depth = depth, class_weight = 'balanced')\n",
    "        model.fit(features_train, targets_train)\n",
    "        predicted_valid = model.predict(features_valid)\n",
    "        result = f1_score(targets_valid, predicted_valid)\n",
    "        if result > best_rf_result:\n",
    "            best_rf_model = model\n",
    "            best_rf_result = result\n",
    "            best_rf_depth = depth\n",
    "            best_rf_est = est\n",
    "        \n",
    "print(best_rf_result,best_rf_est, best_rf_depth)"
   ]
  },
  {
   "cell_type": "markdown",
   "id": "3ee23d2b",
   "metadata": {},
   "source": [
    "### Logistic Regression Balanced"
   ]
  },
  {
   "cell_type": "code",
   "execution_count": 58,
   "id": "00f33ffb",
   "metadata": {},
   "outputs": [
    {
     "name": "stdout",
     "output_type": "stream",
     "text": [
      "0.606243705941591\n"
     ]
    }
   ],
   "source": [
    "lr_model = LogisticRegression(random_state=12345, solver='lbfgs', max_iter=1000, class_weight = 'balanced')\n",
    "lr_model.fit(features_train, targets_train)\n",
    "predicted_valid = model.predict(features_valid)\n",
    "result = f1_score(targets_valid, predicted_valid)\n",
    "\n",
    "print(result)"
   ]
  },
  {
   "cell_type": "markdown",
   "id": "11df8038",
   "metadata": {},
   "source": [
    "При балансировании классов при обучении качество моделей по метрике F1-score существенно улучшилось:\n",
    "\n",
    "* Decision Tree - 0.55 vs 0.596\n",
    "* Random Forest - 0.42 vs 0.61\n",
    "* Logistic Regression - 0.406 vs 0.606\n",
    "\n",
    "Лучший результат показала модель случайного леса. Попробуем улучшить ее при помощи подбора гиперпараметров"
   ]
  },
  {
   "cell_type": "markdown",
   "id": "69e76d4b",
   "metadata": {},
   "source": [
    "## Random Forest подбор гиперпараметров через AUC-ROC и F1-score"
   ]
  },
  {
   "cell_type": "markdown",
   "id": "d9a2bd8c",
   "metadata": {},
   "source": [
    "Вне данного задания я бы делал подбор параметров через GridSearchCV с кроссвалидацией. Но чтобы оставаться в рамках данного на лекциях материала подбор выглядит как-то так."
   ]
  },
  {
   "cell_type": "code",
   "execution_count": 59,
   "id": "b9e6cdbc",
   "metadata": {},
   "outputs": [
    {
     "name": "stdout",
     "output_type": "stream",
     "text": [
      "0.8677922915211052 0.5224625623960067\n"
     ]
    }
   ],
   "source": [
    "perform_search = False\n",
    "\n",
    "if perform_search == True:\n",
    "\n",
    "    best_rf_model_roc = None\n",
    "    best_rf_result_roc = 0.5\n",
    "    best_rf_depth_roc = 0\n",
    "    best_rf_est_roc = 0\n",
    "    best_max_features_roc = ''\n",
    "    best_min_samples_split_roc = 0\n",
    "    best_min_samples_leaf_roc = 0\n",
    "\n",
    "    best_rf_model_f1 = None\n",
    "    best_rf_result_f1 = 0\n",
    "    best_rf_depth_f1 = 0\n",
    "    best_rf_est_f1 = 0\n",
    "    best_max_features_f1 = ''\n",
    "    best_min_samples_split_f1 = 0\n",
    "    best_min_samples_leaf_f1 = 0\n",
    "\n",
    "    max_depth_list = [4, 6, 8]\n",
    "    n_estimators_list = [10, 50]\n",
    "    max_features_list = ['log2', 'sqrt', 'auto']\n",
    "    min_samples_split_list = [2, 3, 5, 10]\n",
    "    min_samples_leaf_list = [1, 2, 3, 5, 10]\n",
    "\n",
    "    for est in n_estimators_list:\n",
    "        for depth in max_depth_list:\n",
    "            for m in max_features_list:\n",
    "                for s in min_samples_split_list:\n",
    "                    for l in min_samples_leaf_list:\n",
    "\n",
    "                        model = RandomForestClassifier(random_state = 12345, n_estimators=est, max_depth = depth, max_features = m, \n",
    "                                                      min_samples_split = s, min_samples_leaf = l, class_weight = 'balanced')\n",
    "                        model.fit(features_train, targets_train)\n",
    "\n",
    "                        result = model.score(features_valid, targets_valid)\n",
    "\n",
    "                        predicted_valid = model.predict(features_valid)\n",
    "\n",
    "                        probabilities_valid = model.predict_proba(features_valid)\n",
    "\n",
    "                        result_roc = roc_auc_score(targets_valid, probabilities_valid[:,1])\n",
    "                        result_f1 = f1_score(targets_valid, predicted_valid)\n",
    "\n",
    "                        if result_roc > best_rf_result_roc:\n",
    "                            print('New best model according to ROC-AUC: ', result_roc, est, depth)\n",
    "                            best_rf_model_roc = model\n",
    "                            best_rf_result_roc = result_roc\n",
    "                            best_rf_depth_roc = depth\n",
    "                            best_rf_est_roc = est\n",
    "                            best_max_features_roc = m\n",
    "                            best_min_samples_split_roc = s\n",
    "                            best_min_samples_leaf_roc = l\n",
    "\n",
    "                        if result_f1 > best_rf_result_f1:\n",
    "                            print('New best model according to F1-score: ', result_f1, est, depth)\n",
    "                            best_rf_model_f1 = model\n",
    "                            best_rf_result_f1 = result_f1\n",
    "                            best_rf_depth_f1 = depth\n",
    "                            best_rf_est_f1 = est\n",
    "                            best_max_features_f1 = m\n",
    "                            best_min_samples_split_f1 = s\n",
    "                            best_min_samples_leaf_f1 = l\n",
    "\n",
    "    print(best_rf_result_roc,best_rf_est_roc, best_rf_depth_roc, best_max_features_roc, best_min_samples_split_roc, best_min_samples_leaf_roc,)\n",
    "    print(best_rf_result_f1,best_rf_est_f1, best_rf_depth_f1, best_max_features_f1, best_min_samples_split_f1, best_min_samples_leaf_f1,)\n",
    "\n",
    "else:\n",
    "    model = RandomForestClassifier(random_state = 12345, n_estimators=50, max_depth = 8, max_features = 'log2', \n",
    "                                                      min_samples_split = 10, min_samples_leaf = 3)\n",
    "    model.fit(features_train, targets_train)\n",
    "    \n",
    "    predicted_valid = model.predict(features_valid)\n",
    "    \n",
    "    probabilities_valid = model.predict_proba(features_valid)\n",
    "\n",
    "    result_roc = roc_auc_score(targets_valid, probabilities_valid[:,1])\n",
    "    result_f1 = f1_score(targets_valid, predicted_valid)\n",
    "    \n",
    "    print(result_roc, result_f1)\n"
   ]
  },
  {
   "cell_type": "markdown",
   "id": "47ec9df9",
   "metadata": {},
   "source": [
    "После нескольких циклов подобора гиперпараметров пришли к модели со следующими гиперпаратмерами:\n",
    "\n",
    "* n_estimators = 50\n",
    "* max_depth = 8, \n",
    "* max_features = 'log2'\n",
    "* min_samples_split = 10\n",
    "* min_samples_leaf = 3\n",
    "\n",
    "Улучшили значение F1-score с 0.61 до 0.638"
   ]
  },
  {
   "cell_type": "markdown",
   "id": "67e4ef81",
   "metadata": {},
   "source": [
    "## Тестирование получившейся модели"
   ]
  },
  {
   "cell_type": "markdown",
   "id": "9f43ff3b",
   "metadata": {},
   "source": [
    "Протестируем подобранную модель на выделенном ранее тестовом датасете. "
   ]
  },
  {
   "cell_type": "code",
   "execution_count": 60,
   "id": "78e6a729",
   "metadata": {},
   "outputs": [
    {
     "data": {
      "text/plain": [
       "RandomForestClassifier(max_depth=8, max_features='log2', min_samples_leaf=3,\n",
       "                       min_samples_split=10, n_estimators=50,\n",
       "                       random_state=12345)"
      ]
     },
     "execution_count": 60,
     "metadata": {},
     "output_type": "execute_result"
    }
   ],
   "source": [
    "model"
   ]
  },
  {
   "cell_type": "code",
   "execution_count": 61,
   "id": "e8bbffdd",
   "metadata": {
    "scrolled": true
   },
   "outputs": [
    {
     "name": "stdout",
     "output_type": "stream",
     "text": [
      "0.863365676924999 0.5350734094616639 0.40294840294840295\n"
     ]
    }
   ],
   "source": [
    "predicted_test = model.predict(test_features)\n",
    "probabilities_test = model.predict_proba(test_features)\n",
    "\n",
    "result_roc = roc_auc_score(test_targets, probabilities_test[:,1])\n",
    "result_f1 = f1_score(test_targets, predicted_test)\n",
    "result_recall = recall_score(test_targets, predicted_test)\n",
    "    \n",
    "print(result_roc, result_f1, result_recall)"
   ]
  },
  {
   "cell_type": "markdown",
   "id": "9a111b39",
   "metadata": {},
   "source": [
    "Тестирование на тестовой выборке показало результат по F1-score 0.619, что выше порогового значения в 0.59 в соответствии с ТЗ. "
   ]
  },
  {
   "cell_type": "markdown",
   "id": "c58d5f12",
   "metadata": {},
   "source": [
    "## Заключение"
   ]
  },
  {
   "cell_type": "markdown",
   "id": "dd188e9f",
   "metadata": {},
   "source": [
    "##### В рамках данного задания был проведен анализ данных банка, который заметил отток клиентов. \n",
    "\n",
    "В процессе исследовательского анализа не было выявлено существенных корреляций, которые могли бы точно указать на причину оттока клиентов. Для того, чтобы банку было проще выявлять клиентов, которые могут оказать в зоне риска расторжения договора была подготовлена и обучена модель, которая позволяет выявлять такого рода клиентов с оценкой точности ROC-AUC равной 0.858 и F1-score 0.619 на тестовой выборке.\n",
    "\n",
    "Подход с использованием модели машинного обучения был также проверен против константной модели и показал большую эффективность в вявлении клиентов в зоне риска.\n",
    "\n",
    "Модель эффективно выявляет 71.99% клиентов, которые потенциально могут покинуть банк (в соответствии с метрикой recall-score). \n",
    "\n",
    "Данная модель рекомендована к применению в отделе работы с клиентами и может внести весомый вклад в сохранение клиентской базы, более рациональному расходованию ресурсов на привлечение и сохранение клиентов и повысить доходность банка. "
   ]
  },
  {
   "cell_type": "markdown",
   "id": "45ae335a",
   "metadata": {},
   "source": [
    "## Доработка модели для Спринта 13"
   ]
  },
  {
   "cell_type": "markdown",
   "id": "37219848",
   "metadata": {},
   "source": [
    "Неплохие результаты показывал также Random Forest с class_weight = balanced. Попробуем применить это в модели."
   ]
  },
  {
   "cell_type": "code",
   "execution_count": 62,
   "id": "b7919e7a",
   "metadata": {},
   "outputs": [
    {
     "name": "stdout",
     "output_type": "stream",
     "text": [
      "0.8679974273194613 0.6376496191512513\n"
     ]
    }
   ],
   "source": [
    "model = RandomForestClassifier(random_state = 12345, n_estimators=50, max_depth = 8, max_features = 'log2', \n",
    "                                                      min_samples_split = 10, min_samples_leaf = 3,\n",
    "                                                      class_weight = 'balanced')\n",
    "model.fit(features_train, targets_train)\n",
    "\n",
    "predicted_valid = model.predict(features_valid)\n",
    "\n",
    "probabilities_valid = model.predict_proba(features_valid)\n",
    "\n",
    "result_roc = roc_auc_score(targets_valid, probabilities_valid[:,1])\n",
    "result_f1 = f1_score(targets_valid, predicted_valid)\n",
    "\n",
    "print(result_roc, result_f1)\n"
   ]
  },
  {
   "cell_type": "markdown",
   "id": "f432bf56",
   "metadata": {},
   "source": [
    "Применение балансировки существенно увеличивает качество модели."
   ]
  },
  {
   "cell_type": "markdown",
   "id": "7b435ecf",
   "metadata": {},
   "source": [
    "Проверка результата на тестовой выборке"
   ]
  },
  {
   "cell_type": "code",
   "execution_count": 63,
   "id": "ccd12c87",
   "metadata": {},
   "outputs": [
    {
     "data": {
      "text/plain": [
       "RandomForestClassifier(class_weight='balanced', max_depth=8,\n",
       "                       max_features='log2', min_samples_leaf=3,\n",
       "                       min_samples_split=10, n_estimators=50,\n",
       "                       random_state=12345)"
      ]
     },
     "execution_count": 63,
     "metadata": {},
     "output_type": "execute_result"
    }
   ],
   "source": [
    "model"
   ]
  },
  {
   "cell_type": "code",
   "execution_count": 64,
   "id": "96b81caf",
   "metadata": {},
   "outputs": [
    {
     "name": "stdout",
     "output_type": "stream",
     "text": [
      "0.8582773837011124 0.6336206896551724 0.7223587223587223\n"
     ]
    }
   ],
   "source": [
    "predicted_test = model.predict(test_features)\n",
    "probabilities_test = model.predict_proba(test_features)\n",
    "\n",
    "result_roc = roc_auc_score(test_targets, probabilities_test[:,1])\n",
    "result_f1 = f1_score(test_targets, predicted_test)\n",
    "result_recall = recall_score(test_targets, predicted_test)\n",
    "    \n",
    "print(result_roc, result_f1, result_recall)"
   ]
  },
  {
   "cell_type": "markdown",
   "id": "ad50f6c8",
   "metadata": {},
   "source": [
    "Результаты также подтверждаются на тестовой выборке. Модель можно принимать в работу. "
   ]
  },
  {
   "cell_type": "code",
   "execution_count": null,
   "id": "39e42a29",
   "metadata": {},
   "outputs": [],
   "source": []
  }
 ],
 "metadata": {
  "kernelspec": {
   "display_name": "Python 3 (ipykernel)",
   "language": "python",
   "name": "python3"
  },
  "language_info": {
   "codemirror_mode": {
    "name": "ipython",
    "version": 3
   },
   "file_extension": ".py",
   "mimetype": "text/x-python",
   "name": "python",
   "nbconvert_exporter": "python",
   "pygments_lexer": "ipython3",
   "version": "3.9.13"
  },
  "toc": {
   "base_numbering": 1,
   "nav_menu": {},
   "number_sections": true,
   "sideBar": true,
   "skip_h1_title": true,
   "title_cell": "Table of Contents",
   "title_sidebar": "Contents",
   "toc_cell": true,
   "toc_position": {
    "height": "calc(100% - 180px)",
    "left": "10px",
    "top": "150px",
    "width": "274.1875px"
   },
   "toc_section_display": true,
   "toc_window_display": true
  }
 },
 "nbformat": 4,
 "nbformat_minor": 5
}
